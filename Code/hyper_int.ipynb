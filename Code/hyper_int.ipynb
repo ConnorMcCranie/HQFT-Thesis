{
 "cells": [
  {
   "cell_type": "code",
   "execution_count": 1,
   "metadata": {},
   "outputs": [
    {
     "name": "stdout",
     "output_type": "stream",
     "text": [
      "Defaulting to user installation because normal site-packages is not writeable\n",
      "Collecting scipy\n",
      "  Using cached scipy-1.14.0-cp312-cp312-win_amd64.whl.metadata (60 kB)\n",
      "Requirement already satisfied: numpy<2.3,>=1.23.5 in c:\\users\\connor\\appdata\\local\\packages\\pythonsoftwarefoundation.python.3.12_qbz5n2kfra8p0\\localcache\\local-packages\\python312\\site-packages (from scipy) (1.26.3)\n",
      "Using cached scipy-1.14.0-cp312-cp312-win_amd64.whl (44.5 MB)\n",
      "Installing collected packages: scipy\n",
      "Successfully installed scipy-1.14.0\n"
     ]
    },
    {
     "name": "stderr",
     "output_type": "stream",
     "text": [
      "\n",
      "[notice] A new release of pip is available: 24.0 -> 24.1.2\n",
      "[notice] To update, run: C:\\Users\\Connor\\AppData\\Local\\Microsoft\\WindowsApps\\PythonSoftwareFoundation.Python.3.12_qbz5n2kfra8p0\\python.exe -m pip install --upgrade pip\n"
     ]
    }
   ],
   "source": [
    "!pip install scipy"
   ]
  },
  {
   "cell_type": "code",
   "execution_count": 35,
   "metadata": {},
   "outputs": [
    {
     "data": {
      "text/plain": [
       "((0.33333333333333337+0j), 3.700743415417189e-15, 0.0)"
      ]
     },
     "execution_count": 35,
     "metadata": {},
     "output_type": "execute_result"
    }
   ],
   "source": [
    "import numpy as np\n",
    "import scipy as sp\n",
    "import matplotlib.pyplot as plt\n",
    "import cmath\n",
    "\n",
    "from numpy import exp, sqrt, pi\n",
    "from scipy.integrate import quad\n",
    "\n",
    "def complex_quad(func, a, b, **kwargs):\n",
    "    real_integral = quad(lambda x: np.real(func(x)), a, b, **kwargs)\n",
    "    imag_integral = quad(lambda x: np.imag(func(x)), a, b, **kwargs)\n",
    "    return (real_integral[0] + 1j*imag_integral[0], real_integral[1],imag_integral[1])\n",
    "    \n",
    "complex_quad(lambda x: x**2, 0, 1)"
   ]
  },
  {
   "cell_type": "code",
   "execution_count": 36,
   "metadata": {},
   "outputs": [
    {
     "data": {
      "text/plain": [
       "(3+4j)"
      ]
     },
     "execution_count": 36,
     "metadata": {},
     "output_type": "execute_result"
    }
   ],
   "source": [
    "z = complex(3,4)\n",
    "np.real(z)+np.imag(z)*1j"
   ]
  },
  {
   "cell_type": "markdown",
   "metadata": {},
   "source": [
    "# The Standard Defining Function \n",
    "Given an integrable function $f:[a,b]\\to \\mathbb{C}$, it's **standard defining function** $\\mathrm{std}(f)$ is the function \n",
    "\\begin{align*}\n",
    "\\mathrm{std}(f):\\mathbb{C}\\setminus \\mathbb{R}&\\to \\mathbb{C}\n",
    "\\\\\n",
    "z&\\mapsto \\frac{1}{2\\pi i}\\int_a^b \\frac{f(x)}{x-z}\\, dx\n",
    "\\end{align*}"
   ]
  },
  {
   "cell_type": "code",
   "execution_count": 53,
   "metadata": {},
   "outputs": [
    {
     "data": {
      "text/plain": [
       "(3.0242638239888226e-10, 7.1670713665139026e-09)"
      ]
     },
     "execution_count": 53,
     "metadata": {},
     "output_type": "execute_result"
    }
   ],
   "source": [
    "def std_def(func,a,b,z):\n",
    "    \"\"\"\n",
    "    Returns the standard defining function of a given function f(x), as a function of z\n",
    "               \n",
    "    \"\"\"\n",
    "    if func == 1:\n",
    "        return (cmath.log(b-z)-cmath.log(a-z))/(2*np.pi*1j)\n",
    "    else:\n",
    "        return complex_quad(lambda x: func(x)/(x-z),a,b)[0]/(2*np.pi*1j)\n"
   ]
  },
  {
   "cell_type": "markdown",
   "metadata": {},
   "source": [
    "# Hyperfunction Integration\n",
    "\\<insert explanation\\>"
   ]
  },
  {
   "cell_type": "code",
   "execution_count": 66,
   "metadata": {},
   "outputs": [
    {
     "data": {
      "text/plain": [
       "(1+8.491115434808678e-17j)"
      ]
     },
     "execution_count": 66,
     "metadata": {},
     "output_type": "execute_result"
    }
   ],
   "source": [
    "def hyp_int(repr,a,b):\n",
    "    \"\"\"\n",
    "    Returns the integral of a hyperfunction f(x)=[repr(z)] over the interval [a,b] \n",
    "    along the circular path whose center is (b+a)/2 and which intersects the real axis at a and b.\n",
    "\n",
    "    Parameters\n",
    "    ----------\n",
    "    repr : function\n",
    "        A representative of the equivalence class which defines the hyperfunction.\n",
    "    a : real float\n",
    "        The lower bound of the interval.\n",
    "    b : real float\n",
    "        The upper bound of the interval.\n",
    "    \"\"\" \n",
    "    path=lambda x:((a+b)/2+((b-a)/2)*exp(1j*x))\n",
    "    d_path=lambda x:((1j*(b-a)/2)*exp(1j*x))\n",
    "    curve = lambda t: repr(path(t))*d_path(t)\n",
    "    return -1*complex_quad(curve,0,2*np.pi)[0]\n",
    "\n",
    "func_1 = lambda z : -1/(2*np.pi*1j*z)\n",
    "func_2 = lambda z : -1/(2*np.pi*1j)*np.log(-1*z)\n",
    "hyp_int(func_2,-1,1)"
   ]
  },
  {
   "cell_type": "code",
   "execution_count": null,
   "metadata": {},
   "outputs": [],
   "source": []
  }
 ],
 "metadata": {
  "kernelspec": {
   "display_name": "Python 3",
   "language": "python",
   "name": "python3"
  },
  "language_info": {
   "codemirror_mode": {
    "name": "ipython",
    "version": 3
   },
   "file_extension": ".py",
   "mimetype": "text/x-python",
   "name": "python",
   "nbconvert_exporter": "python",
   "pygments_lexer": "ipython3",
   "version": "3.12.4"
  }
 },
 "nbformat": 4,
 "nbformat_minor": 2
}
