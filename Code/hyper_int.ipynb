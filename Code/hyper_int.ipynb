{
 "cells": [
  {
   "cell_type": "code",
   "execution_count": 50,
   "metadata": {},
   "outputs": [
    {
     "data": {
      "text/plain": [
       "(0.33333333333333337, 3.700743415417189e-15, 0.0)"
      ]
     },
     "execution_count": 50,
     "metadata": {},
     "output_type": "execute_result"
    }
   ],
   "source": [
    "import numpy as np\n",
    "import scipy as sp\n",
    "import matplotlib.pyplot as plt\n",
    "import cmath\n",
    "\n",
    "from numpy import exp, sqrt, pi\n",
    "from scipy.integrate import quad\n",
    "\n",
    "def complex_quad(func, a, b, round=10**(-9), **kwargs):\n",
    "    real_integral = quad(lambda x: np.real(func(x)), a, b, **kwargs)\n",
    "    imag_integral = quad(lambda x: np.imag(func(x)), a, b, **kwargs)\n",
    "    if round == 0:\n",
    "        return (real_integral[0] + 1j*imag_integral[0], real_integral[1],imag_integral[1])\n",
    "    else:\n",
    "\n",
    "        if abs(real_integral[0]) < round and abs(imag_integral[0]) < round:\n",
    "            return (0,real_integral[1],imag_integral[1])\n",
    "        if abs(real_integral[0]) < round and not abs(imag_integral[0]) < round:\n",
    "            return ( 1j*imag_integral[0], real_integral[1],imag_integral[1])\n",
    "        if not abs(real_integral[0]) < round and abs(imag_integral[0]) < round:\n",
    "            return (real_integral[0] , real_integral[1],imag_integral[1])\n",
    "        if not abs(real_integral[0]) < round and not abs(imag_integral[0]) < round:\n",
    "            return (real_integral[0] + 1j*imag_integral[0], real_integral[1],imag_integral[1])\n",
    "        \n",
    "    \n",
    "complex_quad(lambda x: x**2, 0, 1)"
   ]
  },
  {
   "cell_type": "code",
   "execution_count": 36,
   "metadata": {},
   "outputs": [
    {
     "data": {
      "text/plain": [
       "(3+4j)"
      ]
     },
     "execution_count": 36,
     "metadata": {},
     "output_type": "execute_result"
    }
   ],
   "source": [
    "z = complex(3,4)\n",
    "np.real(z)+np.imag(z)*1j"
   ]
  },
  {
   "cell_type": "markdown",
   "metadata": {},
   "source": [
    "# The Standard Defining Function \n",
    "Given an integrable function $f:[a,b]\\to \\mathbb{C}$, it's **standard defining function** $\\mathrm{std}(f)$ is the function \n",
    "\\begin{align*}\n",
    "\\mathrm{std}(f):\\mathbb{C}\\setminus \\mathbb{R}&\\to \\mathbb{C}\n",
    "\\\\\n",
    "z&\\mapsto \\frac{1}{2\\pi i}\\int_a^b \\frac{f(x)}{x-z}\\, dx\n",
    "\\end{align*}"
   ]
  },
  {
   "cell_type": "code",
   "execution_count": 43,
   "metadata": {},
   "outputs": [],
   "source": [
    "def std_def(func,a,b,z):\n",
    "    \"\"\"\n",
    "    Returns the standard defining function of a given function f(x), as a function of z\n",
    "               \n",
    "    \"\"\"\n",
    "    if func == 1:\n",
    "        return (cmath.log(b-z)-cmath.log(a-z))/(2*np.pi*1j)\n",
    "    else:\n",
    "        return complex_quad(lambda x: func(x)/(x-z),a,b)[0]/(2*np.pi*1j)\n"
   ]
  },
  {
   "cell_type": "markdown",
   "metadata": {},
   "source": [
    "# Hyperfunction Integration\n",
    "\\<insert explanation\\>"
   ]
  },
  {
   "cell_type": "code",
   "execution_count": 51,
   "metadata": {},
   "outputs": [
    {
     "data": {
      "text/plain": [
       "0.9999999999999999"
      ]
     },
     "execution_count": 51,
     "metadata": {},
     "output_type": "execute_result"
    }
   ],
   "source": [
    "def hyp_int(repr,a,b):\n",
    "    \"\"\"\n",
    "    Returns the integral of a hyperfunction f(x)=[repr(z)] over the interval [a,b] \n",
    "    along the circular path whose center is (b+a)/2 and which intersects the real axis at a and b.\n",
    "\n",
    "    Parameters\n",
    "    ----------\n",
    "    repr : function\n",
    "        A representative of the equivalence class which defines the hyperfunction.\n",
    "    a : real float\n",
    "        The lower bound of the interval.\n",
    "    b : real float\n",
    "        The upper bound of the interval.\n",
    "    \"\"\" \n",
    "    path=lambda x:((a+b)/2+((b-a)/2)*exp(1j*x))\n",
    "    d_path=lambda x:((1j*(b-a)/2)*exp(1j*x))\n",
    "    curve = lambda t: repr(path(t))*d_path(t)\n",
    "    return -1*complex_quad(curve,0,2*np.pi)[0]\n",
    "\n",
    "func_1 = lambda z : -1/(2*np.pi*1j*z)\n",
    "func_2 = lambda z : -1/(2*np.pi*1j)*np.log(-1*z)\n",
    "hyp_int(func_1,-1,1)"
   ]
  },
  {
   "cell_type": "markdown",
   "metadata": {},
   "source": [
    "Adding some functionality for matrices"
   ]
  },
  {
   "cell_type": "code",
   "execution_count": 60,
   "metadata": {},
   "outputs": [
    {
     "data": {
      "text/plain": [
       "array([[1.+0.j, 0.+0.j],\n",
       "       [0.+0.j, 1.+0.j]])"
      ]
     },
     "execution_count": 60,
     "metadata": {},
     "output_type": "execute_result"
    }
   ],
   "source": [
    "def resolvent(A,z):\n",
    "    \"\"\"\n",
    "    Returns the resolvent of the operator A at the point z.\n",
    "    \n",
    "    Parameters\n",
    "    ----------\n",
    "    A : numpy matrix\n",
    "        The matrix representation of the operator.\n",
    "    z : complex\n",
    "        The point at which the resolvent is evaluated.\n",
    "    \"\"\"\n",
    "    n = A.shape[0]\n",
    "    return np.linalg.inv(A-z*np.eye(n))\n",
    "\n",
    "def proj_measure(A,z):\n",
    "    return 1/(2*np.pi*1j)*resolvent(A,z)\n",
    "\n",
    "A = np.matrix([[1,1],[1,1]])\n",
    "proj_measure(A,1)\n",
    "\n",
    "def mat_hyp_int(A,a,b):\n",
    "    \"\"\"\n",
    "    Returns the integral of a matrix hyperfunction f(x)=[ (2pi*i(z-A)^-1] over the interval [a,b] \n",
    "    along the circular path whose center is (b+a)/2 and which intersects the real axis at a and b.\n",
    "\n",
    "    Parameters\n",
    "    ----------\n",
    "    A : numpy matrix\n",
    "        The matrix representative of the equivalence class which defines the hyperfunction.\n",
    "    a : real float\n",
    "        The lower bound of the interval.\n",
    "    b : real float\n",
    "        The upper bound of the interval.\n",
    "    \"\"\"\n",
    "\n",
    "    n = A.shape[0]\n",
    "    M = np.zeros((n,n),dtype=complex)\n",
    "    for i in range(n):\n",
    "        for j in range(n):\n",
    "            M[i,j] = hyp_int(lambda x: proj_measure(A,x)[i,j],a,b)\n",
    "    return M\n",
    "mat_hyp_int(A,-1,3)"
   ]
  },
  {
   "cell_type": "code",
   "execution_count": null,
   "metadata": {},
   "outputs": [],
   "source": []
  }
 ],
 "metadata": {
  "kernelspec": {
   "display_name": "Python 3",
   "language": "python",
   "name": "python3"
  },
  "language_info": {
   "codemirror_mode": {
    "name": "ipython",
    "version": 3
   },
   "file_extension": ".py",
   "mimetype": "text/x-python",
   "name": "python",
   "nbconvert_exporter": "python",
   "pygments_lexer": "ipython3",
   "version": "3.12.4"
  }
 },
 "nbformat": 4,
 "nbformat_minor": 2
}
