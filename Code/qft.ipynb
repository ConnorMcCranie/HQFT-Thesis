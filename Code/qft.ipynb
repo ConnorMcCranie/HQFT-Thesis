{
 "cells": [
  {
   "cell_type": "code",
   "execution_count": 69,
   "metadata": {},
   "outputs": [],
   "source": [
    "# This is to collect important functions used in quantum field theory\n",
    "\n",
    "# Importing libraries\n",
    "import numpy as np\n",
    "import scipy as sp\n",
    "import scipy.integrate as spi\n",
    "import cmath as cm\n",
    "import sympy as sym\n",
    "\n",
    "# Define the Pauli matrices\n",
    "def sigma(n):\n",
    "      \"\"\" \n",
    "    ----------\n",
    "    Parameters\n",
    "    ----------\n",
    "    n : either int or np array of shape (4,)\n",
    "        if n is an integer, it should be in {0,1,2,3}\n",
    "        if n is an array, it should be a 4D column vector\n",
    "    ----------\n",
    "    Output\n",
    "    ----------\n",
    "    if n is an integer, it returns the n-th Pauli matrix\n",
    "    if n is an array, it returns the Pauli vector corresponding to the array\n",
    "    \"\"\"\n",
    "      if type(n) == int:\n",
    "        if n == 0:\n",
    "            return np.matrix([[1, 0], [0, 1]])\n",
    "        elif n == 1:\n",
    "            return np.matrix([[0, 1], [1, 0]])\n",
    "        elif n == 2:\n",
    "            return np.matrix([[0, -1j], [1j, 0]])\n",
    "        elif n == 3:\n",
    "            return np.matrix([[1, 0], [0, -1]])\n",
    "        else:\n",
    "            raise ValueError('n must be 0, 1, 2, or 3')\n",
    "      else: # n is an array-like\n",
    "            m = np.array(n)\n",
    "            if m.shape == (4,1):\n",
    "                return m[0][0]*sigma(0) + m[1][0]*sigma(1) + m[2][0]*sigma(2) + m[3][0]*sigma(3)\n",
    "            elif m.shape == (1,4):\n",
    "                return m[0][0]*sigma(0) + m[0][1]*sigma(1) + m[0][2]*sigma(2) + m[0][3]*sigma(3)\n",
    "            else:   \n",
    "                raise ValueError('sigma input must be integer of 4D array-like')\n",
    "            \n",
    "            \n",
    "            \n",
    "        \n",
    "\n",
    "\n",
    "# Define Gamma matrices (chiral form by default)\n",
    "def gamma(n, repr = 'chiral'):\n",
    "    \"\"\" \n",
    "    Parameters\n",
    "    ----------\n",
    "    n : int\n",
    "        The index of the gamma matrix. n = 0, 1, 2, 3, 5\n",
    "    repr : str\n",
    "        The representation of the gamma matrices. 'chiral', 'dirac', or 'majorana'. \n",
    "        Default is 'chiral'.\n",
    "    \"\"\"\n",
    "    if repr == 'chiral':\n",
    "        if n == 0:\n",
    "            return np.matrix([[0,0,1,0], [0,0,0,1], [1,0,0,0], [0,1,0,0]])\n",
    "        elif n == 1:\n",
    "            return np.matrix([[0,0,0,1],[0,0,1,0],[0,-1,0,0],[-1,0,0,0]])\n",
    "        elif n == 2:\n",
    "            return np.matrix([[0,0, 0,-1j],[0,0,1j,0], [0, 1j,0,0],[-1j,0,0,0]])\n",
    "        elif n == 3:\n",
    "            return np.matrix([[0,0,1,0],[0,0,0,-1],[-1,0,0,0],[0,1,0,0]])\n",
    "        elif n == 5:\n",
    "            return np.matrix([[1j,0,0,0], [0,1j,0,0], [0,0,-1j,0], [0,0,0,-1j]])\n",
    "        else:\n",
    "            raise ValueError('n must be 0, 1, 2, 3, or 5')\n",
    "    elif repr == 'dirac':\n",
    "        if n == 0:\n",
    "            return np.matrix([[1,0,0,0], [0,1,0,0], [0,0,-1,0], [0,0,0,-1]])\n",
    "        elif n in range(4):\n",
    "            return gamma(n, repr = 'chiral')\n",
    "        elif n == 5:\n",
    "            return np.matrix([[0,0,1,0], [0,0,0,1], [1,0,0,0], [0,1,0,0]])\n",
    "        else:\n",
    "            raise ValueError('n must be 0, 1, 2, 3, or 5')\n",
    "    elif repr == 'majorana':\n",
    "        if n == 0:\n",
    "            return np.kron(sigma(1),sigma(2))\n",
    "        elif n == 1:\n",
    "            return 1j*np.kron(sigma(0),sigma(3))\n",
    "        elif n == 2:\n",
    "            return -1j*np.kron(sigma(2),sigma(2))\n",
    "        elif n == 3:\n",
    "            return -1j*np.kron(sigma(0),sigma(1))\n",
    "        elif n == 5:\n",
    "            return np.kron(sigma(3),sigma(2))\n",
    "        else:\n",
    "            raise ValueError('n must be 0, 1, 2, 3, or 5')\n",
    "    else:\n",
    "        raise ValueError('repr must be \\'chiral\\', \\'dirac\\', or \\'majorana\\'')"
   ]
  },
  {
   "cell_type": "code",
   "execution_count": 71,
   "metadata": {},
   "outputs": [
    {
     "data": {
      "text/plain": [
       "matrix([[ 5.+0.j,  2.-3.j],\n",
       "        [ 2.+3.j, -3.+0.j]])"
      ]
     },
     "execution_count": 71,
     "metadata": {},
     "output_type": "execute_result"
    }
   ],
   "source": [
    "x = np.array([[1],[2],[3],[4]]).T\n",
    "sigma(x)"
   ]
  },
  {
   "cell_type": "code",
   "execution_count": null,
   "metadata": {},
   "outputs": [],
   "source": []
  }
 ],
 "metadata": {
  "kernelspec": {
   "display_name": "Python 3",
   "language": "python",
   "name": "python3"
  },
  "language_info": {
   "codemirror_mode": {
    "name": "ipython",
    "version": 3
   },
   "file_extension": ".py",
   "mimetype": "text/x-python",
   "name": "python",
   "nbconvert_exporter": "python",
   "pygments_lexer": "ipython3",
   "version": "3.12.4"
  }
 },
 "nbformat": 4,
 "nbformat_minor": 2
}
